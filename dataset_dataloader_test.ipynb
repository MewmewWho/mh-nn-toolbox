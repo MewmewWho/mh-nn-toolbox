{
 "cells": [
  {
   "cell_type": "markdown",
   "id": "b2e55a77",
   "metadata": {},
   "source": [
    "# Dataset & Dataloader test\n",
    "\n",
    "When training neural networks, data management codes are unavoidable. Here we demonstrate the process to test dataset and dataloader codes with an example. \n",
    "\n",
    "The scenario is to write a pytorch map-style customized Dataset loading images. This should be the most common scenario in our lab. \n",
    "\n",
    "Most of the knowledges you need can be found in PyTorch official documents, [Dataset and Dataloader tutorial](https://pytorch.org/tutorials/beginner/basics/data_tutorial.html) and [Dataset and Dataloader API](https://pytorch.org/docs/stable/data.html)."
   ]
  },
  {
   "cell_type": "code",
   "execution_count": null,
   "id": "c60f14da",
   "metadata": {},
   "outputs": [],
   "source": [
    "import torch\n",
    "import numpy as np\n",
    "import cv2 as cv\n",
    "import matplotlib.pyplot as plt\n",
    "\n",
    "from torch.utils.data import Dataset, DataLoader"
   ]
  },
  {
   "cell_type": "markdown",
   "id": "0b0c87f6",
   "metadata": {},
   "source": [
    "## Write the code\n",
    "\n",
    "A lot of online materials can be found about how to write a pytorch dataset/dataloader, including the official documents mentioned above. Since this notebook is all about testing, I'll just write a simple dummy Dataset, which gives a noisy RGB image as input, and a clear RGB image as ground truth."
   ]
  },
  {
   "cell_type": "code",
   "execution_count": null,
   "id": "b1359ff6",
   "metadata": {},
   "outputs": [],
   "source": [
    "def four_digit_square(digit:int, ps:int, color:tuple):\n",
    "    \"\"\"\n",
    "    Return a square uint8 RGB image, gray as background, 4 digits as foreground. \n",
    "    Args:\n",
    "        digit: integer to show. int, should be 0-9999. Undefined behavior for outliers\n",
    "        ps: patch size. positive int\n",
    "        color: color tuple. Length-3, 0-255 int\n",
    "    Rtv:\n",
    "        img: (ps, ps, 3) uint8 numpy array\n",
    "    \"\"\"\n",
    "    assert ps >= 20, 'Patch size too small to hold the texts'\n",
    "    img = np.full((ps, ps, 3), 127, dtype=np.uint8)\n",
    "    text = '{:04d}'.format(digit)[-4:]\n",
    "    text1 = text[:2]\n",
    "    text2 = text[2:]\n",
    "    \n",
    "    cv.putText(img, text1, \n",
    "               (np.round(ps*0.01).astype(int), np.round(ps*0.45).astype(int)), \n",
    "               cv.FONT_HERSHEY_SIMPLEX, ps*0.018, \n",
    "               color, np.round(ps*0.015).astype(int), cv.LINE_AA, False)\n",
    "    cv.putText(img, text2, \n",
    "               (np.round(ps*0.25).astype(int), np.round(ps*0.92).astype(int)), \n",
    "               cv.FONT_HERSHEY_SIMPLEX, ps*0.018, \n",
    "               color, np.round(ps*0.015).astype(int), cv.LINE_AA, False)\n",
    "    \n",
    "    return img\n",
    "\n",
    "class FourDigitDataset(Dataset):\n",
    "    \"\"\"\n",
    "    A dataset gives noisy-clean pair of 128x128 images with digits\n",
    "    \"\"\"\n",
    "    \n",
    "    def __init__(self, folder:str, noise_level:float, rng_seed=None):\n",
    "        \"\"\"\n",
    "        Args:\n",
    "            folder: str, actually choose the color of the digits here\n",
    "            noise_level: float, the Gaussian additive noise sigma\n",
    "            rng_seed: random number generator seed. None for default\n",
    "        \"\"\"\n",
    "        # validate the folder\n",
    "        if folder=='red':\n",
    "            self.color = (255, 0, 0)\n",
    "        elif folder=='green':\n",
    "            self.color = (0, 255, 0)\n",
    "        elif folder=='blue':\n",
    "            self.color = (0, 0, 255)\n",
    "        else:\n",
    "            raise RuntimeError('Undefined color')\n",
    "        self.folder = folder\n",
    "        \n",
    "        # count the samples in the folder (fixed in this dummy clas)\n",
    "        self.length = 10000\n",
    "        \n",
    "        # set the random noise parameters\n",
    "        self.noise_level = noise_level\n",
    "        self.rng = np.random.default_rng(rng_seed)\n",
    "        \n",
    "    def __len__(self):\n",
    "        return self.length\n",
    "    \n",
    "    def __getitem__(self, idx):\n",
    "        # validate index\n",
    "        assert idx>=0 and idx<len(self), 'Index out-of-range'\n",
    "        \n",
    "        # read the image\n",
    "        # assume that the image read are 256x256\n",
    "        clean_img = four_digit_square(idx, 256, self.color)\n",
    "        clean_img = clean_img.astype(np.float32)/255\n",
    "        \n",
    "        # runtime augmentation\n",
    "        noisy_img = clean_img + self.rng.normal(0, self.noise_level, clean_img.shape)\n",
    "        noisy_img = np.clip(noisy_img, 0, 1)\n",
    "        \n",
    "        # turn to tensors\n",
    "        gt = torch.from_numpy(clean_img.transpose(2, 0, 1))\n",
    "        x  = torch.from_numpy(noisy_img.transpose(2, 0, 1))\n",
    "        \n",
    "        # return \n",
    "        return x, gt"
   ]
  },
  {
   "cell_type": "markdown",
   "id": "2b9fcd7b",
   "metadata": {},
   "source": [
    "## Read the code and guarantee the basic functionalitis\n",
    "\n",
    "Read your code, and answer these questions:\n",
    "\n",
    " 1. `__init__` method   \n",
    " Can you assign a certain path/file as the source of the images?\n",
    " 2. `__len__` method   \n",
    " Can the dataset object tell the length of itself?\n",
    " 3. `__getitem__` method   \n",
    " Does it takes in an integer as index, and returns a training sample?   \n",
    " What is the training sample returned? Usually it’s a tuple as (inputs(tensor or tuple), gt(tensor)).   \n",
    " Does the integer starts from 0 and ends at the correct number?   \n",
    " (Optional) Can it deal with out-of-range inputs, whether by throw an exception or fixing with a warning?   \n",
    " 4. (Optional) Augmentation   \n",
    " Is there any run-time augmentation mechanism?   \n",
    " If so, how do you control the parameters and randomness for it?\n",
    "\n",
    "You can also practice that our our dummy dataset"
   ]
  },
  {
   "cell_type": "markdown",
   "id": "d389b4cd",
   "metadata": {},
   "source": [
    "## Create an instance and check the `__len__` method"
   ]
  },
  {
   "cell_type": "code",
   "execution_count": null,
   "id": "88615345",
   "metadata": {},
   "outputs": [],
   "source": [
    "dataset = FourDigitDataset('red', 0.05, None)\n",
    "print(len(dataset))"
   ]
  },
  {
   "cell_type": "markdown",
   "id": "f61e3ec5",
   "metadata": {},
   "source": [
    "## Check the training sample returned by the `__getitem__` method\n",
    "\n",
    "Check several samples with different indices.\n",
    "\n",
    "For each image tensor in every sample, check its:\n",
    " 1. shape   \n",
    " Should be (channel, height, width). They should match your design of the network. Batch size will be assigned by pytorch Dataloader.\n",
    " 2. shape consistency   \n",
    " The same tensor should share the same shape across all the samples.\n",
    " 3. data type    \n",
    " For most of the time, torch.float or torch.float32. The two types mean the same thing.\n",
    " 4. data device   \n",
    " Usually CPU, then moved to GPU with the training step. Lightning does that data movement automatically.\n",
    " 5. data range/distribution   \n",
    " Usually [0, 1] for images; [-1, -1] if you move it to the middle; or unit normal distribution if you normalize it.\n",
    " 6. visualization   \n",
    " Send the tensors to cpu, turn to numpy arrays, permute the channels, and show with matplotlib. See if the shown image fits its source, and if the index of the source the same as you assigned\n",
    " 7. boundary cases   \n",
    " Will your dataset give the correct result for the first and the last sample? Especially important for Dataloader."
   ]
  },
  {
   "cell_type": "code",
   "execution_count": null,
   "id": "f7d3159d",
   "metadata": {
    "scrolled": true
   },
   "outputs": [],
   "source": [
    "test_idx_list = (0, 20, 500, 9999)\n",
    "for idx in test_idx_list:\n",
    "    print('Sample {:d}'.format(idx))\n",
    "    x, gt = dataset[idx]\n",
    "    fig, axes = plt.subplots(1, 2, figsize=(10, 5))\n",
    "    for ten, ax, label in zip((x, gt), axes, ('input', 'gt')):\n",
    "        print('\\t{} tensor'.format(label).expandtabs(4))\n",
    "        print('\\t\\tShape: {}'.format(ten.shape).expandtabs(4))\n",
    "        print('\\t\\tData type: {}'.format(ten.dtype).expandtabs(4))\n",
    "        print('\\t\\tData device: {}'.format(ten.device).expandtabs(4))\n",
    "        print('\\t\\tData range: {:.3f}-{:.3f}'.format(ten.min(), ten.max()).expandtabs(4))\n",
    "        ax.imshow(ten.cpu().numpy().transpose(1,2,0))\n",
    "        ax.axis('off')\n",
    "    plt.show()"
   ]
  },
  {
   "cell_type": "markdown",
   "id": "df5e8ae3",
   "metadata": {},
   "source": [
    "## Check the speed\n",
    "\n",
    "Time a loop with 100 samples. Think whether your data loading or your GPU computing will be the bottleneck of training. We would like to make the GPU run in full speed.\n",
    "\n",
    "We're using `%%time` cell magic command here for a rough test, and the `time` module built-in Python can give you finer control.\n",
    "\n",
    "Note that the data reading may be slower when they're first read, perhaps some cache issue of the disk."
   ]
  },
  {
   "cell_type": "code",
   "execution_count": null,
   "id": "71147723",
   "metadata": {},
   "outputs": [],
   "source": [
    "%%time\n",
    "test_amount = 100\n",
    "test_idx_list = np.arange(len(dataset))[:test_amount]\n",
    "device = torch.device('cuda:0')\n",
    "\n",
    "for idx in test_idx_list:\n",
    "    x, gt = dataset[idx]\n",
    "    x = x.to(device)\n",
    "    gt = gt.to(device)\n",
    "print('{:d} sample generated'.format(test_amount))"
   ]
  },
  {
   "cell_type": "markdown",
   "id": "2017a6a7",
   "metadata": {},
   "source": [
    "## Memory leak\n",
    "\n",
    "During iterations, will your CPU/GPU memory usage keep rising due to memory leak? You can use `htop` to observe CPU memory, and `nvidia-smi` to observe GPU memory. Both commands are commandline tools."
   ]
  },
  {
   "cell_type": "markdown",
   "id": "c9643a5d",
   "metadata": {},
   "source": [
    "## Wrap it with Dataloader object\n",
    "\n",
    "Then do the same tests: the `__getitem__` method, the speed, and the memory leak. \n",
    "\n",
    "Only the speed test is shown here. There are several possible bottlenecks for the dataloader:\n",
    " 1. Disk IO speed\n",
    " 1. CPU computing speed for data processing, mostly augmentation\n",
    " 1. The speed to transfer data in CPU memory to GPU memory\n",
    " \n",
    "Increase `num_workers` can speed up the dataloading process only if the bottleheck is CPU computing."
   ]
  },
  {
   "cell_type": "code",
   "execution_count": null,
   "id": "e07ea648",
   "metadata": {},
   "outputs": [],
   "source": [
    "bs = 10\n",
    "dataloader = DataLoader(dataset, batch_size=bs, shuffle=True, num_workers=5, pin_memory=True, drop_last=True)"
   ]
  },
  {
   "cell_type": "code",
   "execution_count": null,
   "id": "8d8f74f1",
   "metadata": {},
   "outputs": [],
   "source": [
    "%%time\n",
    "test_amount = 100\n",
    "device = torch.device('cuda:0')\n",
    "counter = 0\n",
    "\n",
    "for x, gt in dataloader:\n",
    "    x = x.to(device)\n",
    "    gt = gt.to(device)\n",
    "    counter += 1\n",
    "    if counter > test_amount:\n",
    "        break\n",
    "print('{:d} sample generated'.format(bs*test_amount))"
   ]
  },
  {
   "cell_type": "code",
   "execution_count": null,
   "id": "94b26117",
   "metadata": {},
   "outputs": [],
   "source": [
    "print(x.shape, gt.shape)"
   ]
  }
 ],
 "metadata": {
  "kernelspec": {
   "display_name": "Python 3 (ipykernel)",
   "language": "python",
   "name": "python3"
  },
  "language_info": {
   "codemirror_mode": {
    "name": "ipython",
    "version": 3
   },
   "file_extension": ".py",
   "mimetype": "text/x-python",
   "name": "python",
   "nbconvert_exporter": "python",
   "pygments_lexer": "ipython3",
   "version": "3.9.13"
  }
 },
 "nbformat": 4,
 "nbformat_minor": 5
}
